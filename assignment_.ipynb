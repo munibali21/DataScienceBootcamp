{
 "cells": [
  {
   "cell_type": "markdown",
   "metadata": {},
   "source": [
    "Write a program to iterate the first 10 numbers, and in each iteration, print the sum of\n",
    "the current and previous number.\n"
   ]
  },
  {
   "cell_type": "code",
   "execution_count": 1,
   "metadata": {},
   "outputs": [
    {
     "name": "stdout",
     "output_type": "stream",
     "text": [
      "Current: 1\n",
      "Sum of current and previous: 1\n",
      "----------\n",
      "Current: 1\n",
      "Sum of current and previous: 2\n",
      "----------\n",
      "Current: 2\n",
      "Sum of current and previous: 3\n",
      "----------\n",
      "Current: 3\n",
      "Sum of current and previous: 5\n",
      "----------\n",
      "Current: 5\n",
      "Sum of current and previous: 8\n",
      "----------\n",
      "Current: 8\n",
      "Sum of current and previous: 13\n",
      "----------\n",
      "Current: 13\n",
      "Sum of current and previous: 21\n",
      "----------\n",
      "Current: 21\n",
      "Sum of current and previous: 34\n",
      "----------\n",
      "Current: 34\n",
      "Sum of current and previous: 55\n",
      "----------\n",
      "Current: 55\n",
      "Sum of current and previous: 89\n",
      "----------\n"
     ]
    }
   ],
   "source": [
    "previous = 0\n",
    "current = 1\n",
    "\n",
    "for i in range(10):\n",
    "    print(\"Current:\", current)\n",
    "    temp = current\n",
    "    current = current + previous\n",
    "    previous = temp\n",
    "    print(\"Sum of current and previous:\", current)\n",
    "    print(\"----------\")\n"
   ]
  },
  {
   "cell_type": "markdown",
   "metadata": {},
   "source": [
    "Print the following pattern\n",
    "1\n",
    "2 2\n",
    "3 3 3\n",
    "4 4 4 4\n",
    "5 5 5 5 5"
   ]
  },
  {
   "cell_type": "code",
   "execution_count": 2,
   "metadata": {},
   "outputs": [
    {
     "name": "stdout",
     "output_type": "stream",
     "text": [
      "1 \n",
      "2 2 \n",
      "3 3 3 \n",
      "4 4 4 4 \n",
      "5 5 5 5 5 \n"
     ]
    }
   ],
   "source": [
    "for i in range(1, 6):\n",
    "    for j in range(i):\n",
    "        print(i, end=\" \")\n",
    "    print()"
   ]
  },
  {
   "cell_type": "markdown",
   "metadata": {},
   "source": [
    "List is given below:\n",
    "numbers = [12, 75, 150, 180, 145, 525, 50]\n",
    "Write a program to display only those numbers from a list that satisfy the following\n",
    "conditions\n",
    "i. The number must be divisible by five\n",
    "ii. If the number is greater than 150, then skip it and move to the next number\n",
    "iii. If the number is greater than 500, then stop the loop"
   ]
  },
  {
   "cell_type": "code",
   "execution_count": 3,
   "metadata": {},
   "outputs": [
    {
     "name": "stdout",
     "output_type": "stream",
     "text": [
      "75\n",
      "150\n",
      "145\n"
     ]
    }
   ],
   "source": [
    "numbers = [12, 75, 150, 180, 145, 525, 50]\n",
    "\n",
    "for num in numbers:\n",
    "    if num % 5 == 0:\n",
    "        if num > 500:\n",
    "            break\n",
    "        elif num > 150:\n",
    "            continue\n",
    "        else:\n",
    "            print(num)\n"
   ]
  },
  {
   "cell_type": "markdown",
   "metadata": {},
   "source": [
    " Display Fibonacci series up to 10 terms\n",
    "The Fibonacci Sequence is a series of numbers. The next number is found by adding\n",
    "up the two numbers before it. The first two numbers are 0 and 1.\n",
    "For example, 0, 1, 1, 2, 3, 5, 8, 13, 21. The next number in this series above is\n",
    "13+21 = 34."
   ]
  },
  {
   "cell_type": "code",
   "execution_count": 4,
   "metadata": {},
   "outputs": [
    {
     "name": "stdout",
     "output_type": "stream",
     "text": [
      "Fibonacci sequence up to 10 terms:\n",
      "0 1 1 2 3 5 8 13 21 34 "
     ]
    }
   ],
   "source": [
    "# Initializing the first two terms\n",
    "num_terms = 10\n",
    "a, b = 0, 1\n",
    "count = 0\n",
    "\n",
    "# Check if the number of terms is valid and print the Fibonacci series\n",
    "if num_terms <= 0:\n",
    "    print(\"Please enter a positive integer.\")\n",
    "elif num_terms == 1:\n",
    "    print(\"Fibonacci sequence up to\", num_terms, \"term:\")\n",
    "    print(a)\n",
    "else:\n",
    "    print(\"Fibonacci sequence up to\", num_terms, \"terms:\")\n",
    "    while count < num_terms:\n",
    "        print(a, end=\" \")\n",
    "        nth = a + b\n",
    "        # Update values for the next iteration\n",
    "        a = b\n",
    "        b = nth\n",
    "        count += 1\n"
   ]
  },
  {
   "cell_type": "markdown",
   "metadata": {},
   "source": [
    ". Write a program to use the loop to find the factorial of a given number.\n",
    "The factorial (symbol: !) means to multiply all whole numbers from the chosen number\n",
    "down to 1.\n",
    "For example: calculate the factorial of 5\n",
    "5! = 5 × 4 × 3 × 2 × 1 = 120"
   ]
  },
  {
   "cell_type": "code",
   "execution_count": 7,
   "metadata": {},
   "outputs": [
    {
     "name": "stdout",
     "output_type": "stream",
     "text": [
      "The factorial of 4 is 24\n"
     ]
    }
   ],
   "source": [
    "# Taking input for the number\n",
    "num = int(input(\"Enter a number to find its factorial: \"))\n",
    "\n",
    "# Initializing the factorial value as 1\n",
    "factorial = 1\n",
    "\n",
    "# Check if the number is negative, zero, or positive\n",
    "if num < 0:\n",
    "    print(\"Factorial does not exist for negative numbers.\")\n",
    "elif num == 0:\n",
    "    print(\"The factorial of 0 is 1\")\n",
    "else:\n",
    "    for i in range(1, num + 1):\n",
    "        factorial *= i\n",
    "\n",
    "    print(\"The factorial of\", num, \"is\", factorial)\n"
   ]
  },
  {
   "cell_type": "markdown",
   "metadata": {},
   "source": [
    "Write a program to iterate a given list and count the occurrence of each element and\n",
    "print to show the count of each element.\n",
    "sample_list = [11, 45, 8, 11, 23, 45, 23, 45, 89]\n",
    "Expected Output:\n",
    "Printing count of each item 11: 2, 45: 3, 8: 1, 23: 2, 89: 1\n"
   ]
  },
  {
   "cell_type": "code",
   "execution_count": 8,
   "metadata": {},
   "outputs": [
    {
     "name": "stdout",
     "output_type": "stream",
     "text": [
      "Printing count of each item: 11: 2, 45: 3, 8: 1, 23: 2, 89: 1\n"
     ]
    }
   ],
   "source": [
    "sample_list = [11, 45, 8, 11, 23, 45, 23, 45, 89]\n",
    "\n",
    "# Create an empty dictionary to store counts\n",
    "count_dict = {}\n",
    "\n",
    "# Iterate through the list and count occurrences of each element\n",
    "for item in sample_list:\n",
    "    if item in count_dict:\n",
    "        count_dict[item] += 1\n",
    "    else:\n",
    "        count_dict[item] = 1\n",
    "\n",
    "# Print the counts of each element\n",
    "print(\"Printing count of each item:\", end=\" \")\n",
    "for key, value in count_dict.items():\n",
    "    print(f\"{key}: {value}\", end=\", \")\n",
    "print(\"\\b\\b\")  # Removing the extra comma and space at the end\n"
   ]
  },
  {
   "cell_type": "markdown",
   "metadata": {},
   "source": [
    " Given two lists, l1 and l2, write a program to create a third list l3 by picking an\n",
    "odd-index element from the list l1 and even index elements from the list l2.\n",
    "Given:\n",
    "l1 = [3, 6, 9, 12, 15, 18, 21]\n",
    "l2 = [4, 8, 12, 16, 20, 24, 28]\n"
   ]
  },
  {
   "cell_type": "code",
   "execution_count": 9,
   "metadata": {},
   "outputs": [
    {
     "name": "stdout",
     "output_type": "stream",
     "text": [
      "l3: [6, 12, 18, 4, 12, 20, 28]\n"
     ]
    }
   ],
   "source": [
    "l1 = [3, 6, 9, 12, 15, 18, 21]\n",
    "l2 = [4, 8, 12, 16, 20, 24, 28]\n",
    "\n",
    "# Odd-index elements from l1\n",
    "odd_index_elements_l1 = [l1[i] for i in range(len(l1)) if i % 2 != 0]\n",
    "\n",
    "# Even-index elements from l2\n",
    "even_index_elements_l2 = [l2[i] for i in range(len(l2)) if i % 2 == 0]\n",
    "\n",
    "# Combine odd-index elements from l1 and even-index elements from l2 to create l3\n",
    "l3 = odd_index_elements_l1 + even_index_elements_l2\n",
    "\n",
    "print(\"l3:\", l3)\n"
   ]
  }
 ],
 "metadata": {
  "kernelspec": {
   "display_name": "Python 3",
   "language": "python",
   "name": "python3"
  },
  "language_info": {
   "codemirror_mode": {
    "name": "ipython",
    "version": 3
   },
   "file_extension": ".py",
   "mimetype": "text/x-python",
   "name": "python",
   "nbconvert_exporter": "python",
   "pygments_lexer": "ipython3",
   "version": "3.11.2"
  }
 },
 "nbformat": 4,
 "nbformat_minor": 2
}
